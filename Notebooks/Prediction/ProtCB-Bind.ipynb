{
 "cells": [
  {
   "cell_type": "markdown",
   "metadata": {},
   "source": [
    "<h1>ProtCB-Bind</h1>\n",
    "<div>\n",
    "    Before Running please update the location of the classifiers if path has changed.\n",
    "    <br/>\n",
    "    The predictor can be utilised by calling the function: ProtCB_Pred. \n",
    "    The predictor function takes the 4 parameters: \n",
    "    <ol>\n",
    "        <li>svm_features</li>\n",
    "        <li>etc_features</li>\n",
    "        <li>sgd_features</li>\n",
    "        <li>labels</li>\n",
    "    </ol>\n",
    "    The function returns the following:\n",
    "    <ol>\n",
    "        <li>pred_prob</li>\n",
    "        <li>pred</li>\n",
    "        <li> tn</li>\n",
    "        <li>fn</li>\n",
    "        <li>tp</li>      \n",
    "        <li>fp</li>\n",
    "        <li>sensitivity</li>\n",
    "        <li>specificity</li>        \n",
    "        <li>auc</li>\n",
    "        <li>acc</li>        \n",
    "        <li>mcc</li>\n",
    "        <li>bacc</li>\n",
    "    </ol>\n",
    "</div>"
   ]
  },
  {
   "cell_type": "code",
   "execution_count": null,
   "metadata": {},
   "outputs": [],
   "source": [
    "import sys\n",
    "import numpy as np\n",
    "import pandas as pd\n",
    "import pickle"
   ]
  },
  {
   "cell_type": "code",
   "execution_count": null,
   "metadata": {},
   "outputs": [],
   "source": [
    "#Get Required Notebooks and run them\n",
    "%run ../Functions/PerformanceEvaluation.ipynb\n",
    "%run ../Functions/Excel_Functions.ipynb"
   ]
  },
  {
   "cell_type": "code",
   "execution_count": null,
   "metadata": {},
   "outputs": [],
   "source": [
    "#Load Pre-trained Classifiers\n",
    "\n",
    "file_path = '../../Classifiers/SVM.pkl' #Path to SVM model\n",
    "with (open(file_path, \"rb\")) as openfile:\n",
    "  svm = pickle.load(openfile)\n",
    "\n",
    "file_path = '../../Classifiers/ETC.pkl' #Path to ETC model\n",
    "with (open(file_path, \"rb\")) as openfile:\n",
    "  etc = pickle.load(openfile)\n",
    "\n",
    "file_path = '../../Classifiers/SGD.pkl' #Path to SGD model\n",
    "with (open(file_path, \"rb\")) as openfile:\n",
    "  sgd = pickle.load(openfile)"
   ]
  },
  {
   "cell_type": "code",
   "execution_count": null,
   "metadata": {},
   "outputs": [],
   "source": [
    "def ProtCB_Bind(svm_features, etc_features, sgd_features, test_labels):\n",
    "    try:\n",
    "        #Get Probabilites of test data\n",
    "        svm_prob = svm.predict_proba(svm_features)\n",
    "        etc_prob = etc.predict_proba(etc_features)\n",
    "        sgd_prob = sgd.predict_proba(sgd_features)\n",
    "    \n",
    "        #add the features together\n",
    "        add = np.add(svm_prob, etc_prob)\n",
    "        add = np.add(add, sgd_prob)\n",
    "\n",
    "        #get prediction probability and label \n",
    "        pred_prob = np.divide(add, 3)\n",
    "        pred = np.argmax(pred_prob, axis=-1)\n",
    "    \n",
    "        tn, fn, tp, fp, sensitivity, specificity, auc_m, acc, mcc, bacc = Evaluate(pred_prob, pred, test_labels)\n",
    "\n",
    "        return pred_prob, pred, tn, fn, tp, fp, sensitivity, specificity, auc_m, acc, mcc, bacc\n",
    "    except Exception as err:\n",
    "        print(\"An exception as occured and has been logged\")\n",
    "        print(err)"
   ]
  }
 ],
 "metadata": {
  "kernelspec": {
   "display_name": "Python 3 (ipykernel)",
   "language": "python",
   "name": "python3"
  },
  "language_info": {
   "codemirror_mode": {
    "name": "ipython",
    "version": 3
   },
   "file_extension": ".py",
   "mimetype": "text/x-python",
   "name": "python",
   "nbconvert_exporter": "python",
   "pygments_lexer": "ipython3",
   "version": "3.11.7"
  }
 },
 "nbformat": 4,
 "nbformat_minor": 4
}
