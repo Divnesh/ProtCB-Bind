{
 "cells": [
  {
   "cell_type": "code",
   "execution_count": null,
   "id": "475b0733-a50a-49f1-b931-4a3be2854cdb",
   "metadata": {},
   "outputs": [],
   "source": [
    "# for model evaluation metrics\n",
    "from sklearn.metrics import classification_report, confusion_matrix, accuracy_score, matthews_corrcoef, \\\n",
    "    roc_curve, auc, balanced_accuracy_score, roc_auc_score\n",
    "\n",
    "# ProtCB-Bind Classifiers\n",
    "from sklearn.svm import SVC\n",
    "from sklearn.linear_model import SGDClassifier\n",
    "from sklearn.ensemble import ExtraTreesClassifier"
   ]
  },
  {
   "cell_type": "code",
   "execution_count": null,
   "id": "731e5cc7-6b89-4d73-b76d-91759b6d64d5",
   "metadata": {},
   "outputs": [],
   "source": [
    "def Evaluate(pred_prob, predicted, y_test):\n",
    "    fpr, tpr, thresholds = roc_curve(y_test, pred_prob[:, 1], pos_label=None)\n",
    "    confusion = confusion_matrix(y_test, predicted)\n",
    "\n",
    "    tn = confusion[0][0]\n",
    "    fp = confusion[0][1]\n",
    "    fn = confusion[1][0]\n",
    "    tp = confusion[1][1]\n",
    "\n",
    "    sensitivity = tp / ( tp + fn)\n",
    "    specificity = tn / ( fp + tn)\n",
    "    auc_m = auc(fpr, tpr)\n",
    "    mcc = matthews_corrcoef(y_test, predicted)\n",
    "    acc = accuracy_score(y_test, predicted)\n",
    "    bacc = balanced_accuracy_score(y_test, predicted)\n",
    "\n",
    "    print(\"Performance Scores:\")\n",
    "    print(f\"BACC: {bacc}, Sens: {sensitivity}, Spec: {specificity}, AUC: {auc_m}, ACC: {acc}, MCC: {mcc}\")\n",
    "\n",
    "    return tn, fn, tp, fp, sensitivity, specificity, auc_m, acc, mcc, bacc"
   ]
  }
 ],
 "metadata": {
  "kernelspec": {
   "display_name": "Python 3 (ipykernel)",
   "language": "python",
   "name": "python3"
  },
  "language_info": {
   "codemirror_mode": {
    "name": "ipython",
    "version": 3
   },
   "file_extension": ".py",
   "mimetype": "text/x-python",
   "name": "python",
   "nbconvert_exporter": "python",
   "pygments_lexer": "ipython3",
   "version": "3.11.7"
  }
 },
 "nbformat": 4,
 "nbformat_minor": 5
}
