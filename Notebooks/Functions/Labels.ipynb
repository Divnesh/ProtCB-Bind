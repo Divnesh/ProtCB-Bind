{
 "cells": [
  {
   "cell_type": "code",
   "execution_count": null,
   "metadata": {},
   "outputs": [],
   "source": [
    "class Label():\n",
    "    def ReadLabel(self, file_name):\n",
    "        read_file = pd.read_csv(file_name, delimiter='\\t')\n",
    "        read_file = np.asarray(read_file)\n",
    "        return read_file\n",
    "\n",
    "    def GetLabel(self, file_name, meta_file):\n",
    "        arraylabel = np.array([])\n",
    "        filename = f\"{file_name}{meta_file}.txt\"\n",
    "        files = pd.read_csv(filename, header=None)\n",
    "        DataSet_File_Info = np.array(files)\n",
    "\n",
    "        #File Names\n",
    "        for x in DataSet_File_Info:\n",
    "            for y in x:\n",
    "                file_path = f\"{file_name}Labels/\" + y + \".txt\"\n",
    "                data = self.ReadLabel(file_path)\n",
    "\n",
    "                if len(arraylabel) == 0:\n",
    "                    arraylabel = data\n",
    "                else:\n",
    "                    arraylabel = np.vstack((arraylabel, data))\n",
    "\n",
    "        return arraylabel"
   ]
  }
 ],
 "metadata": {
  "kernelspec": {
   "display_name": "Python 3 (ipykernel)",
   "language": "python",
   "name": "python3"
  },
  "language_info": {
   "codemirror_mode": {
    "name": "ipython",
    "version": 3
   },
   "file_extension": ".py",
   "mimetype": "text/x-python",
   "name": "python",
   "nbconvert_exporter": "python",
   "pygments_lexer": "ipython3",
   "version": "3.11.7"
  }
 },
 "nbformat": 4,
 "nbformat_minor": 4
}
