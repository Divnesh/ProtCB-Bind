{
 "cells": [
  {
   "cell_type": "code",
   "execution_count": null,
   "id": "0ad45a2d",
   "metadata": {},
   "outputs": [],
   "source": [
    "import xlsxwriter\n",
    "import os.path\n",
    "from datetime import datetime"
   ]
  },
  {
   "cell_type": "code",
   "execution_count": null,
   "id": "ae6fb305",
   "metadata": {},
   "outputs": [],
   "source": [
    "class Excel_Files:\n",
    "    def __init___(self): \n",
    "        self.row = 0 \n",
    "        self.col = 0\n",
    "    \n",
    "    def Create_Workbook(self, excelFileName):\n",
    "        now = datetime.now() # current date and time\n",
    "        ct = now.strftime(\"%m_%d_%Y_%H%M.xlsx\")\n",
    "        self.workbook = xlsxwriter.Workbook(f\"{excelFileName} {ct}\")        \n",
    "    \n",
    "    def Create_Worksheet(self, excelWorksheet):\n",
    "        self.worksheet = self.workbook.add_worksheet(excelWorksheet)\n",
    "        self.row = 0\n",
    "        self.col = 0\n",
    "    \n",
    "    def WriteHeader(self, header_row):            \n",
    "        self.worksheet.write(self.row, self.col, 'Predictor')\n",
    "        self.worksheet.write(self.row, self.col+1, 'TN')\n",
    "        self.worksheet.write(self.row, self.col+2, 'FN')\n",
    "        self.worksheet.write(self.row, self.col+3, 'TP')\n",
    "        self.worksheet.write(self.row, self.col+4, 'FP')\n",
    "        self.worksheet.write(self.row, self.col+5, 'Sensitivity')            \n",
    "        self.worksheet.write(self.row, self.col+6, 'Specificity')\n",
    "        self.worksheet.write(self.row, self.col+7, 'ROC-AUC')\n",
    "        self.worksheet.write(self.row, self.col+8, 'Accuracy')\n",
    "        self.worksheet.write(self.row, self.col+9, 'MCC')\n",
    "        self.worksheet.write(self.row, self.col+10, 'BACC')\n",
    "        self.row = self.row + 1\n",
    "    \n",
    "    def Write_Line(self, data):\n",
    "        for x in data:\n",
    "            self.worksheet.write(self.row, self.col, x)\n",
    "            self.col = self.col + 1\n",
    "        self.col = 0\n",
    "        self.row = self.row + 1\n",
    "\n",
    "    def Write_Row_Wise(self, data):\n",
    "        for x in data:\n",
    "            self.worksheet.write(self.row, self.col, x)\n",
    "            self.row = self.row + 1\n",
    "    \n",
    "    def Close_WorkBook(self):\n",
    "        self.workbook.close()"
   ]
  }
 ],
 "metadata": {
  "kernelspec": {
   "display_name": "Python 3 (ipykernel)",
   "language": "python",
   "name": "python3"
  },
  "language_info": {
   "codemirror_mode": {
    "name": "ipython",
    "version": 3
   },
   "file_extension": ".py",
   "mimetype": "text/x-python",
   "name": "python",
   "nbconvert_exporter": "python",
   "pygments_lexer": "ipython3",
   "version": "3.11.7"
  }
 },
 "nbformat": 4,
 "nbformat_minor": 5
}
